{
  "nbformat": 4,
  "nbformat_minor": 0,
  "metadata": {
    "colab": {
      "name": "Untitled0.ipynb",
      "provenance": [],
      "collapsed_sections": []
    },
    "kernelspec": {
      "name": "python3",
      "display_name": "Python 3"
    },
    "language_info": {
      "name": "python"
    }
  },
  "cells": [
    {
      "cell_type": "code",
      "execution_count": 9,
      "metadata": {
        "id": "HgJrgPTJkvu0"
      },
      "outputs": [],
      "source": [
        "import pandas as pd\n",
        "import numpy as np\n",
        "import json\n",
        "import time\n",
        "import matplotlib.pyplot as plt\n",
        "\n",
        "from scipy.spatial import distance\n",
        "\n",
        "from nltk.corpus import stopwords\n",
        "from nltk.tokenize import word_tokenize\n",
        "\n",
        "import tensorflow as tf\n",
        "import keras\n",
        "from keras.preprocessing.text import one_hot , Tokenizer\n",
        "from tensorflow.keras.applications.xception import Xception\n",
        "from keras.layers import Flatten\n",
        "from keras.layers import Dense\n",
        "from keras.layers import Input, BatchNormalization, Dropout\n",
        "from keras import Sequential, Model\n",
        "from keras.layers import Lambda, Reshape, Dot\n",
        "from keras.losses import CosineSimilarity\n",
        "from keras.layers import merge"
      ]
    },
    {
      "cell_type": "code",
      "source": [
        "from google.colab import drive\n",
        "drive.mount('/content/drive')"
      ],
      "metadata": {
        "id": "OsHyumoOlpu0",
        "colab": {
          "base_uri": "https://localhost:8080/"
        },
        "outputId": "fb667a83-a454-432b-dc7a-bfec28c99ba8"
      },
      "execution_count": 10,
      "outputs": [
        {
          "output_type": "stream",
          "name": "stdout",
          "text": [
            "Drive already mounted at /content/drive; to attempt to forcibly remount, call drive.mount(\"/content/drive\", force_remount=True).\n"
          ]
        }
      ]
    },
    {
      "cell_type": "code",
      "source": [
        "image_embeddings = np.loadtxt(\"/content/drive/MyDrive/DL Project DS6050/image_embeddings.txt\").reshape(27638, 8192)\n"
      ],
      "metadata": {
        "id": "GPycG1JflsUN"
      },
      "execution_count": 11,
      "outputs": []
    },
    {
      "cell_type": "code",
      "source": [
        "f = open('/content/drive/MyDrive/DL Project DS6050/text_embs.json')\n",
        "text_embeddings = json.load(f)\n",
        "f.close()\n"
      ],
      "metadata": {
        "id": "NIVyjh1_mBhu"
      },
      "execution_count": 12,
      "outputs": []
    },
    {
      "cell_type": "code",
      "source": [
        "text_embeddings = np.array([text_embeddings[str(i)] for i in range(1,27639)])"
      ],
      "metadata": {
        "id": "W8CD2g3YlQEv"
      },
      "execution_count": 13,
      "outputs": []
    },
    {
      "cell_type": "code",
      "source": [
        "#recipe_info = pd.read_csv('/content/drive/MyDrive/DL Project DS6050/recipe_info.csv')"
      ],
      "metadata": {
        "id": "K6R4JWg0mBj5"
      },
      "execution_count": null,
      "outputs": []
    },
    {
      "cell_type": "code",
      "source": [
        ""
      ],
      "metadata": {
        "id": "Ycv4cNWJiGrk"
      },
      "execution_count": null,
      "outputs": []
    },
    {
      "cell_type": "code",
      "source": [
        ""
      ],
      "metadata": {
        "id": "ZRnpdDkZiGt7"
      },
      "execution_count": null,
      "outputs": []
    },
    {
      "cell_type": "code",
      "source": [
        ""
      ],
      "metadata": {
        "id": "HG2OKwYbiGwb"
      },
      "execution_count": null,
      "outputs": []
    },
    {
      "cell_type": "code",
      "source": [
        ""
      ],
      "metadata": {
        "id": "YrYFL5JPiGyn"
      },
      "execution_count": null,
      "outputs": []
    },
    {
      "cell_type": "code",
      "source": [
        ""
      ],
      "metadata": {
        "id": "1pJOcIboiG0z"
      },
      "execution_count": null,
      "outputs": []
    },
    {
      "cell_type": "code",
      "source": [
        ""
      ],
      "metadata": {
        "id": "LTlU24nUiG4T"
      },
      "execution_count": null,
      "outputs": []
    },
    {
      "cell_type": "code",
      "source": [
        ""
      ],
      "metadata": {
        "id": "UIdQCVOnmBme"
      },
      "execution_count": null,
      "outputs": []
    },
    {
      "cell_type": "code",
      "source": [
        "\n",
        "left_input = Input(shape=(1200,))\n",
        "right_input = Input(shape=(8192,))\n",
        "    \n",
        "premodel = Sequential()\n",
        "premodel.add(Dense(1200, activation='relu', input_shape=(8192,)))\n",
        "premodel.add(BatchNormalization())\n",
        "\n",
        "model = Sequential()\n",
        "model.add(Dense(1000, activation='relu', input_shape=(1200,)))\n",
        "model.add(Dropout(.25))\n",
        "model.add(BatchNormalization())\n",
        "model.add(Dense(500, activation='relu'))\n",
        "\n",
        "\n",
        "encoded_l = model(left_input)\n",
        "encoded_r = model(premodel(right_input))\n",
        "\n",
        "\n",
        "cos_distance = keras.layers.Dot(axes=1, normalize=True)([encoded_l, encoded_r])\n",
        "\n",
        "cos_distance = Reshape((1,))(cos_distance)\n",
        "cos_similarity = Lambda(lambda x: 1-x)(cos_distance)\n",
        "\n",
        "siamese_net = Model([left_input, right_input], [cos_distance])\n",
        "siamese_net.summary()\n",
        "\n",
        "optimizer = tf.keras.optimizers.Adam(learning_rate=0.0001)\n",
        "siamese_net.compile(loss=\"mse\",optimizer=optimizer)\n"
      ],
      "metadata": {
        "id": "Ylq2Q4vWmBo3",
        "colab": {
          "base_uri": "https://localhost:8080/"
        },
        "outputId": "f051bc09-89a8-4ea1-dc5b-ab5345223969"
      },
      "execution_count": null,
      "outputs": [
        {
          "output_type": "stream",
          "name": "stdout",
          "text": [
            "Model: \"model_3\"\n",
            "__________________________________________________________________________________________________\n",
            " Layer (type)                   Output Shape         Param #     Connected to                     \n",
            "==================================================================================================\n",
            " input_8 (InputLayer)           [(None, 8192)]       0           []                               \n",
            "                                                                                                  \n",
            " input_7 (InputLayer)           [(None, 1200)]       0           []                               \n",
            "                                                                                                  \n",
            " sequential_6 (Sequential)      (None, 1200)         9836400     ['input_8[0][0]']                \n",
            "                                                                                                  \n",
            " sequential_7 (Sequential)      (None, 500)          1705500     ['input_7[0][0]',                \n",
            "                                                                  'sequential_6[0][0]']           \n",
            "                                                                                                  \n",
            " dot_3 (Dot)                    (None, 1)            0           ['sequential_7[0][0]',           \n",
            "                                                                  'sequential_7[1][0]']           \n",
            "                                                                                                  \n",
            " reshape_3 (Reshape)            (None, 1)            0           ['dot_3[0][0]']                  \n",
            "                                                                                                  \n",
            "==================================================================================================\n",
            "Total params: 11,541,900\n",
            "Trainable params: 11,537,500\n",
            "Non-trainable params: 4,400\n",
            "__________________________________________________________________________________________________\n"
          ]
        }
      ]
    },
    {
      "cell_type": "code",
      "source": [
        "output = np.concatenate((np.ones(27638), np.zeros(27638)))\n",
        "\n",
        "siamese_net.fit(x=[np.concatenate((text_embeddings, np.concatenate((text_embeddings[2:], text_embeddings[0:2])))),np.concatenate((image_embeddings, image_embeddings))],\n",
        "                y=output, \n",
        "                batch_size=32, \n",
        "                epochs=5, \n",
        "                validation_split=.2)"
      ],
      "metadata": {
        "colab": {
          "base_uri": "https://localhost:8080/"
        },
        "id": "II7TECtIiTzZ",
        "outputId": "7c839e69-6aa5-4cfb-b675-6e5e0d587286"
      },
      "execution_count": null,
      "outputs": [
        {
          "output_type": "stream",
          "name": "stdout",
          "text": [
            "Epoch 1/5\n",
            "1382/1382 [==============================] - 126s 88ms/step - loss: 0.2631 - val_loss: 0.2077\n",
            "Epoch 2/5\n",
            "1382/1382 [==============================] - 121s 88ms/step - loss: 0.2276 - val_loss: 0.1510\n",
            "Epoch 3/5\n",
            "1382/1382 [==============================] - 121s 88ms/step - loss: 0.2139 - val_loss: 0.1788\n",
            "Epoch 4/5\n",
            "1382/1382 [==============================] - 122s 88ms/step - loss: 0.2024 - val_loss: 0.1566\n",
            "Epoch 5/5\n",
            "1382/1382 [==============================] - 121s 87ms/step - loss: 0.1932 - val_loss: 0.2145\n"
          ]
        },
        {
          "output_type": "execute_result",
          "data": {
            "text/plain": [
              "<keras.callbacks.History at 0x7fcb40f15c50>"
            ]
          },
          "metadata": {},
          "execution_count": 16
        }
      ]
    },
    {
      "cell_type": "code",
      "source": [
        "siamese_net.predict([text_embeddings,image_embeddings])"
      ],
      "metadata": {
        "colab": {
          "base_uri": "https://localhost:8080/"
        },
        "id": "yl6_StRPiT6V",
        "outputId": "d0ba12f2-140e-4176-d0dd-cb40222daf55"
      },
      "execution_count": null,
      "outputs": [
        {
          "output_type": "execute_result",
          "data": {
            "text/plain": [
              "array([[0.59649426],\n",
              "       [0.31678686],\n",
              "       [0.5264446 ],\n",
              "       ...,\n",
              "       [0.5098851 ],\n",
              "       [0.4507288 ],\n",
              "       [0.39223075]], dtype=float32)"
            ]
          },
          "metadata": {},
          "execution_count": 17
        }
      ]
    },
    {
      "cell_type": "code",
      "source": [
        "siamese_net.predict([text_embeddings[1:7],image_embeddings[20:26]])"
      ],
      "metadata": {
        "colab": {
          "base_uri": "https://localhost:8080/"
        },
        "id": "HKkNUkauiT82",
        "outputId": "9227c2e2-7c1c-467e-b670-03a208dd24d4"
      },
      "execution_count": null,
      "outputs": [
        {
          "output_type": "execute_result",
          "data": {
            "text/plain": [
              "array([[0.2977701 ],\n",
              "       [0.6390219 ],\n",
              "       [0.6124878 ],\n",
              "       [0.15426914],\n",
              "       [0.27225992],\n",
              "       [0.5616291 ]], dtype=float32)"
            ]
          },
          "metadata": {},
          "execution_count": 18
        }
      ]
    },
    {
      "cell_type": "code",
      "source": [
        ""
      ],
      "metadata": {
        "id": "kdQI29hbiT_S"
      },
      "execution_count": null,
      "outputs": []
    },
    {
      "cell_type": "code",
      "source": [
        ""
      ],
      "metadata": {
        "id": "Rv_ALOT0pfiE"
      },
      "execution_count": null,
      "outputs": []
    },
    {
      "cell_type": "code",
      "source": [
        ""
      ],
      "metadata": {
        "id": "gsenST-lpflK"
      },
      "execution_count": null,
      "outputs": []
    },
    {
      "cell_type": "code",
      "source": [
        ""
      ],
      "metadata": {
        "id": "e1EeuIIUpfo4"
      },
      "execution_count": null,
      "outputs": []
    },
    {
      "cell_type": "code",
      "source": [
        ""
      ],
      "metadata": {
        "id": "d014-NiwpfsB"
      },
      "execution_count": null,
      "outputs": []
    },
    {
      "cell_type": "code",
      "source": [
        ""
      ],
      "metadata": {
        "id": "lncgTs9ppfua"
      },
      "execution_count": null,
      "outputs": []
    },
    {
      "cell_type": "code",
      "source": [
        "\n",
        "left_input = Input(shape=(1200,))\n",
        "right_input = Input(shape=(8192,))\n",
        "    \n",
        "premodel = Sequential()\n",
        "premodel.add(Dense(1200, activation='relu', input_shape=(8192,)))\n",
        "premodel.add(BatchNormalization())\n",
        "\n",
        "model = Sequential()\n",
        "model.add(Dense(1000, activation='relu', input_shape=(1200,)))\n",
        "model.add(Dropout(.35))\n",
        "model.add(BatchNormalization())\n",
        "model.add(Dense(900, activation='relu'))\n",
        "model.add(Dropout(.35))\n",
        "model.add(BatchNormalization())\n",
        "model.add(Dense(800, activation='relu'))\n",
        "\n",
        "\n",
        "encoded_l = model(left_input)\n",
        "encoded_r = model(premodel(right_input))\n",
        "\n",
        "\n",
        "cos_distance = keras.layers.Dot(axes=1, normalize=True)([encoded_l, encoded_r])\n",
        "\n",
        "cos_distance = Reshape((1,))(cos_distance)\n",
        "cos_similarity = Lambda(lambda x: 1-x)(cos_distance)\n",
        "\n",
        "siamese_net2 = Model([left_input, right_input], [cos_distance])\n",
        "siamese_net2.summary()\n",
        "\n",
        "optimizer = tf.keras.optimizers.Adam(learning_rate=0.0001)\n",
        "siamese_net2.compile(loss=\"mse\",optimizer=optimizer)"
      ],
      "metadata": {
        "id": "xjL8QH__pfxA",
        "colab": {
          "base_uri": "https://localhost:8080/"
        },
        "outputId": "5525c5c6-e79e-4381-a487-8a97776d46ea"
      },
      "execution_count": 14,
      "outputs": [
        {
          "output_type": "stream",
          "name": "stdout",
          "text": [
            "Model: \"model_1\"\n",
            "__________________________________________________________________________________________________\n",
            " Layer (type)                   Output Shape         Param #     Connected to                     \n",
            "==================================================================================================\n",
            " input_4 (InputLayer)           [(None, 8192)]       0           []                               \n",
            "                                                                                                  \n",
            " input_3 (InputLayer)           [(None, 1200)]       0           []                               \n",
            "                                                                                                  \n",
            " sequential_2 (Sequential)      (None, 1200)         9836400     ['input_4[0][0]']                \n",
            "                                                                                                  \n",
            " sequential_3 (Sequential)      (None, 800)          2830300     ['input_3[0][0]',                \n",
            "                                                                  'sequential_2[0][0]']           \n",
            "                                                                                                  \n",
            " dot_1 (Dot)                    (None, 1)            0           ['sequential_3[0][0]',           \n",
            "                                                                  'sequential_3[1][0]']           \n",
            "                                                                                                  \n",
            " reshape_1 (Reshape)            (None, 1)            0           ['dot_1[0][0]']                  \n",
            "                                                                                                  \n",
            "==================================================================================================\n",
            "Total params: 12,666,700\n",
            "Trainable params: 12,660,500\n",
            "Non-trainable params: 6,200\n",
            "__________________________________________________________________________________________________\n"
          ]
        }
      ]
    },
    {
      "cell_type": "code",
      "source": [
        "output = np.concatenate((np.ones(27638), np.zeros(27638)))\n",
        "\n",
        "siamese_net2.fit(x=[np.concatenate((text_embeddings, np.concatenate((text_embeddings[2:], text_embeddings[0:2])))),np.concatenate((image_embeddings, image_embeddings))],\n",
        "                y=output, \n",
        "                batch_size=16, \n",
        "                epochs=20, \n",
        "                validation_split=.1)"
      ],
      "metadata": {
        "colab": {
          "base_uri": "https://localhost:8080/"
        },
        "id": "H-kllE_bpf1_",
        "outputId": "84d1381f-a8c0-466c-eb0c-e5be053ac3b9"
      },
      "execution_count": 15,
      "outputs": [
        {
          "output_type": "stream",
          "name": "stdout",
          "text": [
            "Epoch 1/20\n",
            "3110/3110 [==============================] - 262s 84ms/step - loss: 0.2701 - val_loss: 0.2903\n",
            "Epoch 2/20\n",
            "3110/3110 [==============================] - 265s 85ms/step - loss: 0.2388 - val_loss: 0.2583\n",
            "Epoch 3/20\n",
            "3110/3110 [==============================] - 258s 83ms/step - loss: 0.2310 - val_loss: 0.2281\n",
            "Epoch 4/20\n",
            "3110/3110 [==============================] - 261s 84ms/step - loss: 0.2236 - val_loss: 0.1816\n",
            "Epoch 5/20\n",
            "3110/3110 [==============================] - 260s 84ms/step - loss: 0.2178 - val_loss: 0.1868\n",
            "Epoch 6/20\n",
            "3110/3110 [==============================] - 259s 83ms/step - loss: 0.2128 - val_loss: 0.2622\n",
            "Epoch 7/20\n",
            "3110/3110 [==============================] - 259s 83ms/step - loss: 0.2080 - val_loss: 0.1832\n",
            "Epoch 8/20\n",
            "3110/3110 [==============================] - 257s 83ms/step - loss: 0.2032 - val_loss: 0.2451\n",
            "Epoch 9/20\n",
            "3110/3110 [==============================] - 256s 82ms/step - loss: 0.1996 - val_loss: 0.1994\n",
            "Epoch 10/20\n",
            "3110/3110 [==============================] - 256s 82ms/step - loss: 0.1945 - val_loss: 0.2473\n",
            "Epoch 11/20\n",
            "3110/3110 [==============================] - 259s 83ms/step - loss: 0.1913 - val_loss: 0.2654\n",
            "Epoch 12/20\n",
            "3110/3110 [==============================] - 256s 82ms/step - loss: 0.1871 - val_loss: 0.2747\n",
            "Epoch 13/20\n",
            "3110/3110 [==============================] - 255s 82ms/step - loss: 0.1852 - val_loss: 0.2124\n",
            "Epoch 14/20\n",
            "3110/3110 [==============================] - 260s 84ms/step - loss: 0.1816 - val_loss: 0.2169\n",
            "Epoch 15/20\n",
            "3110/3110 [==============================] - 263s 85ms/step - loss: 0.1811 - val_loss: 0.2567\n",
            "Epoch 16/20\n",
            "3110/3110 [==============================] - 258s 83ms/step - loss: 0.1773 - val_loss: 0.2092\n",
            "Epoch 17/20\n",
            "3110/3110 [==============================] - 263s 85ms/step - loss: 0.1746 - val_loss: 0.1741\n",
            "Epoch 18/20\n",
            "3110/3110 [==============================] - 264s 85ms/step - loss: 0.1721 - val_loss: 0.2550\n",
            "Epoch 19/20\n",
            "3110/3110 [==============================] - 262s 84ms/step - loss: 0.1698 - val_loss: 0.2311\n",
            "Epoch 20/20\n",
            "3110/3110 [==============================] - 259s 83ms/step - loss: 0.1674 - val_loss: 0.1744\n"
          ]
        },
        {
          "output_type": "execute_result",
          "data": {
            "text/plain": [
              "<keras.callbacks.History at 0x7fa6adc4bf50>"
            ]
          },
          "metadata": {},
          "execution_count": 15
        }
      ]
    },
    {
      "cell_type": "code",
      "source": [
        "siamese_net2.predict([text_embeddings,image_embeddings])"
      ],
      "metadata": {
        "id": "QVDbZznnpf4r",
        "colab": {
          "base_uri": "https://localhost:8080/"
        },
        "outputId": "3ad91e01-51f4-4abb-d3f3-052cdee5352e"
      },
      "execution_count": 16,
      "outputs": [
        {
          "output_type": "execute_result",
          "data": {
            "text/plain": [
              "array([[0.5706685 ],\n",
              "       [0.65702397],\n",
              "       [0.4776135 ],\n",
              "       ...,\n",
              "       [0.37697098],\n",
              "       [0.50471795],\n",
              "       [0.3273186 ]], dtype=float32)"
            ]
          },
          "metadata": {},
          "execution_count": 16
        }
      ]
    },
    {
      "cell_type": "code",
      "source": [
        "f = 1\n",
        "f2 = 200\n",
        "siamese_net2.predict([text_embeddings[f:f+10],image_embeddings[f2:f2+10]])"
      ],
      "metadata": {
        "id": "PLnWtNfopf8k",
        "colab": {
          "base_uri": "https://localhost:8080/"
        },
        "outputId": "4912b612-5387-4d14-ab99-02f9b1d32309"
      },
      "execution_count": 19,
      "outputs": [
        {
          "output_type": "execute_result",
          "data": {
            "text/plain": [
              "array([[0.5817459 ],\n",
              "       [0.48907506],\n",
              "       [0.15846118],\n",
              "       [0.56743234],\n",
              "       [0.46045622],\n",
              "       [0.5991637 ],\n",
              "       [0.21214887],\n",
              "       [0.21010935],\n",
              "       [0.67258435],\n",
              "       [0.2737526 ]], dtype=float32)"
            ]
          },
          "metadata": {},
          "execution_count": 19
        }
      ]
    },
    {
      "cell_type": "code",
      "source": [
        "siamese_net2.save('siamese_best.h5')"
      ],
      "metadata": {
        "id": "ouTSqBbnpaDs"
      },
      "execution_count": 53,
      "outputs": []
    },
    {
      "cell_type": "code",
      "source": [
        "import random\n",
        "random.randint(1,27638)"
      ],
      "metadata": {
        "colab": {
          "base_uri": "https://localhost:8080/"
        },
        "id": "ghcgvKr9I6kx",
        "outputId": "c954a770-5079-4294-93b5-a0ebf2811699"
      },
      "execution_count": 86,
      "outputs": [
        {
          "output_type": "execute_result",
          "data": {
            "text/plain": [
              "16733"
            ]
          },
          "metadata": {},
          "execution_count": 86
        }
      ]
    },
    {
      "cell_type": "code",
      "source": [
        "my_pred_dict = {}\n",
        "for j in range(10):\n",
        "  random_pic = random.randint(1,27638)\n",
        "  preds = []\n",
        "  for i in range(27638): \n",
        "    preds.append(siamese_net2.predict([text_embeddings[i].reshape((1,1200)),image_embeddings[random_pic-1].reshape((1,8192))]))\n",
        "\n",
        "  pic2recipe_df = pd.DataFrame({'id':range(1,27639), 'score':preds})\n",
        "  my_pred_dict[random_pic] = list(pic2recipe_df.sort_values(by='score').id[-5:])\n"
      ],
      "metadata": {
        "id": "M98TEOVLiUEv"
      },
      "execution_count": 97,
      "outputs": []
    },
    {
      "cell_type": "code",
      "source": [
        "my_pred_dict"
      ],
      "metadata": {
        "colab": {
          "base_uri": "https://localhost:8080/"
        },
        "id": "2czOsIz7Jv2Y",
        "outputId": "aac067dc-0d5d-401c-8966-f4e750067b41"
      },
      "execution_count": 98,
      "outputs": [
        {
          "output_type": "execute_result",
          "data": {
            "text/plain": [
              "{4878: [15711, 9311, 14621, 9841, 5042],\n",
              " 6624: [9067, 7828, 9841, 19946, 7532],\n",
              " 8889: [10288, 27094, 3778, 15809, 15679],\n",
              " 15218: [6201, 27414, 7133, 18080, 12433],\n",
              " 15981: [25516, 27503, 14296, 873, 2875],\n",
              " 17943: [754, 27288, 17767, 12177, 21448],\n",
              " 20840: [26470, 1592, 6201, 19753, 10695],\n",
              " 20868: [25470, 21019, 3027, 17452, 20329],\n",
              " 22011: [20032, 8400, 18963, 25655, 1013],\n",
              " 23069: [1319, 13281, 177, 7156, 7739]}"
            ]
          },
          "metadata": {},
          "execution_count": 98
        }
      ]
    },
    {
      "cell_type": "code",
      "source": [
        ""
      ],
      "metadata": {
        "id": "fXJcbPpdJzxY"
      },
      "execution_count": null,
      "outputs": []
    },
    {
      "cell_type": "code",
      "source": [
        ""
      ],
      "metadata": {
        "id": "RJOVyLeSJz0R"
      },
      "execution_count": null,
      "outputs": []
    },
    {
      "cell_type": "code",
      "source": [
        ""
      ],
      "metadata": {
        "id": "-D2uNUbIJz2w"
      },
      "execution_count": null,
      "outputs": []
    },
    {
      "cell_type": "code",
      "source": [
        "taco_pic = pd.DataFrame({'id':range(1,27639), 'score':preds})"
      ],
      "metadata": {
        "id": "rRIhL9U_cdIs"
      },
      "execution_count": 76,
      "outputs": []
    },
    {
      "cell_type": "code",
      "source": [
        "list(taco_pic.sort_values(by='score').id[-5:])"
      ],
      "metadata": {
        "colab": {
          "base_uri": "https://localhost:8080/"
        },
        "id": "D_OsQ4n-dqJ4",
        "outputId": "53e34cdc-34aa-4cd9-81d2-d86a0a4c609d"
      },
      "execution_count": 89,
      "outputs": [
        {
          "output_type": "execute_result",
          "data": {
            "text/plain": [
              "[14583, 1317, 5374, 10771, 17213]"
            ]
          },
          "metadata": {},
          "execution_count": 89
        }
      ]
    },
    {
      "cell_type": "code",
      "source": [
        "taco_pic.iloc[10196]"
      ],
      "metadata": {
        "colab": {
          "base_uri": "https://localhost:8080/"
        },
        "id": "nZpaXPo3pq5r",
        "outputId": "e6d58268-3762-496f-f8fd-9893dfafd22a"
      },
      "execution_count": 79,
      "outputs": [
        {
          "output_type": "execute_result",
          "data": {
            "text/plain": [
              "id                10197\n",
              "score    [[0.60904324]]\n",
              "Name: 10196, dtype: object"
            ]
          },
          "metadata": {},
          "execution_count": 79
        }
      ]
    },
    {
      "cell_type": "code",
      "source": [
        ""
      ],
      "metadata": {
        "id": "W-vSAb2VJnGh"
      },
      "execution_count": null,
      "outputs": []
    }
  ]
}