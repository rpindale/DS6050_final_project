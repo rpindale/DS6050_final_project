{
 "cells": [
  {
   "cell_type": "code",
   "execution_count": 30,
   "id": "1114abd5-a4aa-440e-98ed-85a951078002",
   "metadata": {},
   "outputs": [],
   "source": [
    "import pandas as pd\n",
    "import numpy as np\n",
    "import json\n",
    "import time\n",
    "import matplotlib.pyplot as plt\n",
    "\n",
    "from nltk.corpus import stopwords\n",
    "from nltk.tokenize import word_tokenize\n",
    "\n",
    "import tensorflow as tf\n",
    "import keras\n",
    "from keras.preprocessing.text import one_hot , Tokenizer"
   ]
  },
  {
   "cell_type": "code",
   "execution_count": 31,
   "id": "09eae1cb-8fcb-4c65-8811-53a5c84c2fb5",
   "metadata": {},
   "outputs": [],
   "source": [
    "path = '/Users/rpindale/Desktop/Yummly28K/metadata27638/'\n",
    "\n",
    "def read_meta_into_df(path, n_files):\n",
    "    recipe_info = pd.DataFrame({'id':[], 'title':[], 'time_to_cook_(seconds)':[], 'ingredients':[], 'cuisine':[], 'course':[]})\n",
    "    for meta_num in range(1,n_files+1):\n",
    "        num_of_digits = len(str(meta_num))\n",
    "        num_of_zeros_in_fname = 5 - num_of_digits\n",
    "        final_path = path + 'meta' + str(0)*num_of_zeros_in_fname + str(meta_num) + '.json' #makes path for the json file for that recipe\n",
    "        f = open(final_path)\n",
    "        temp = json.load(f)\n",
    "        id_ = str(0)*num_of_zeros_in_fname + str(meta_num)\n",
    "        title = temp['name']\n",
    "        time = temp['totalTimeInSeconds']\n",
    "        ingredients = np.array(temp['ingredientLines'], dtype='object')\n",
    "        course = temp['attributes']['course'][0] #returns as list, so take first element. Idk if there are multiple labels for some.\n",
    "        cuisine = temp['attributes']['cuisine'][0]\n",
    "        new_df = pd.DataFrame({'id':id_, 'title':title, 'time_to_cook_(seconds)':time, 'ingredients':[ingredients], 'cuisine':cuisine, 'course':course})\n",
    "        recipe_info = recipe_info.append(new_df)\n",
    "    return(recipe_info)\n",
    "\n",
    "        \n",
    "\n",
    "    \n",
    "#start = time.time()\n",
    "#temp = read_meta_into_df(path, 27638)\n",
    "#end = time.time()\n",
    "#print(end-start)\n",
    "\n",
    "#temp.to_csv('recipe_info.csv') #save this to a .csv so I do not have to do this again!"
   ]
  },
  {
   "cell_type": "code",
   "execution_count": 32,
   "id": "6091f3ea-40f8-42a6-8ef1-6c7730b8ad93",
   "metadata": {},
   "outputs": [],
   "source": [
    "temp = pd.read_csv('recipe_info.csv')"
   ]
  },
  {
   "cell_type": "code",
   "execution_count": 33,
   "id": "1e3e648f-46d6-4981-b411-2c08918e214b",
   "metadata": {},
   "outputs": [
    {
     "data": {
      "text/html": [
       "<div>\n",
       "<style scoped>\n",
       "    .dataframe tbody tr th:only-of-type {\n",
       "        vertical-align: middle;\n",
       "    }\n",
       "\n",
       "    .dataframe tbody tr th {\n",
       "        vertical-align: top;\n",
       "    }\n",
       "\n",
       "    .dataframe thead th {\n",
       "        text-align: right;\n",
       "    }\n",
       "</style>\n",
       "<table border=\"1\" class=\"dataframe\">\n",
       "  <thead>\n",
       "    <tr style=\"text-align: right;\">\n",
       "      <th></th>\n",
       "      <th>Unnamed: 0</th>\n",
       "      <th>id</th>\n",
       "      <th>title</th>\n",
       "      <th>time_to_cook_(seconds)</th>\n",
       "      <th>ingredients</th>\n",
       "      <th>cuisine</th>\n",
       "      <th>course</th>\n",
       "    </tr>\n",
       "  </thead>\n",
       "  <tbody>\n",
       "    <tr>\n",
       "      <th>0</th>\n",
       "      <td>0</td>\n",
       "      <td>1</td>\n",
       "      <td>Mushroom Risotto</td>\n",
       "      <td>1800.0</td>\n",
       "      <td>['2 cups Baby Bella mushrooms, sliced' '2 cups...</td>\n",
       "      <td>Italian</td>\n",
       "      <td>Side Dishes</td>\n",
       "    </tr>\n",
       "    <tr>\n",
       "      <th>1</th>\n",
       "      <td>0</td>\n",
       "      <td>2</td>\n",
       "      <td>Filipino BBQ Pork Skewers</td>\n",
       "      <td>2400.0</td>\n",
       "      <td>['2.5 lb pork country style ribs, all fat trim...</td>\n",
       "      <td>Barbecue</td>\n",
       "      <td>Main Dishes</td>\n",
       "    </tr>\n",
       "    <tr>\n",
       "      <th>2</th>\n",
       "      <td>0</td>\n",
       "      <td>3</td>\n",
       "      <td>Mushroom and Roasted Garlic Risotto</td>\n",
       "      <td>5100.0</td>\n",
       "      <td>['2 whole garlic heads'\\n '2 tablespoons plus ...</td>\n",
       "      <td>Italian</td>\n",
       "      <td>Main Dishes</td>\n",
       "    </tr>\n",
       "    <tr>\n",
       "      <th>3</th>\n",
       "      <td>0</td>\n",
       "      <td>4</td>\n",
       "      <td>Gratin Dauphinois (Scalloped Potatoes with Che...</td>\n",
       "      <td>3300.0</td>\n",
       "      <td>['1 garlic clove, halved' 'Cooking spray'\\n '6...</td>\n",
       "      <td>French</td>\n",
       "      <td>Side Dishes</td>\n",
       "    </tr>\n",
       "    <tr>\n",
       "      <th>4</th>\n",
       "      <td>0</td>\n",
       "      <td>5</td>\n",
       "      <td>Delicious Grilled Hamburgers</td>\n",
       "      <td>900.0</td>\n",
       "      <td>['1 pound lean ground beef' '1 tablespoon Worc...</td>\n",
       "      <td>Barbecue</td>\n",
       "      <td>Main Dishes</td>\n",
       "    </tr>\n",
       "  </tbody>\n",
       "</table>\n",
       "</div>"
      ],
      "text/plain": [
       "   Unnamed: 0  id                                              title  \\\n",
       "0           0   1                                   Mushroom Risotto   \n",
       "1           0   2                          Filipino BBQ Pork Skewers   \n",
       "2           0   3                Mushroom and Roasted Garlic Risotto   \n",
       "3           0   4  Gratin Dauphinois (Scalloped Potatoes with Che...   \n",
       "4           0   5                       Delicious Grilled Hamburgers   \n",
       "\n",
       "   time_to_cook_(seconds)                                        ingredients  \\\n",
       "0                  1800.0  ['2 cups Baby Bella mushrooms, sliced' '2 cups...   \n",
       "1                  2400.0  ['2.5 lb pork country style ribs, all fat trim...   \n",
       "2                  5100.0  ['2 whole garlic heads'\\n '2 tablespoons plus ...   \n",
       "3                  3300.0  ['1 garlic clove, halved' 'Cooking spray'\\n '6...   \n",
       "4                   900.0  ['1 pound lean ground beef' '1 tablespoon Worc...   \n",
       "\n",
       "    cuisine       course  \n",
       "0   Italian  Side Dishes  \n",
       "1  Barbecue  Main Dishes  \n",
       "2   Italian  Main Dishes  \n",
       "3    French  Side Dishes  \n",
       "4  Barbecue  Main Dishes  "
      ]
     },
     "execution_count": 33,
     "metadata": {},
     "output_type": "execute_result"
    }
   ],
   "source": [
    "temp.head()"
   ]
  },
  {
   "cell_type": "code",
   "execution_count": 34,
   "id": "5c886f1e-a771-43f3-8bdb-b6e1e16e4724",
   "metadata": {},
   "outputs": [
    {
     "data": {
      "text/plain": [
       "American                11729\n",
       "Italian                  4571\n",
       "Mexican                  3394\n",
       "Asian                    1951\n",
       "French                   1562\n",
       "Indian                   1457\n",
       "Kid-Friendly              962\n",
       "Southwestern              600\n",
       "Thai                      347\n",
       "Barbecue                  338\n",
       "Chinese                   266\n",
       "Southern & Soul Food      151\n",
       "Greek                      80\n",
       "Mediterranean              72\n",
       "Spanish                    58\n",
       "Cuban                      31\n",
       "Cajun & Creole             18\n",
       "Moroccan                   11\n",
       "Japanese                   10\n",
       "Irish                       9\n",
       "English                     6\n",
       "Hawaiian                    5\n",
       "German                      4\n",
       "Hungarian                   3\n",
       "Portuguese                  2\n",
       "Vietnamese                  1\n",
       "Name: cuisine, dtype: int64"
      ]
     },
     "execution_count": 34,
     "metadata": {},
     "output_type": "execute_result"
    }
   ],
   "source": [
    "temp.cuisine.value_counts()"
   ]
  },
  {
   "cell_type": "code",
   "execution_count": 35,
   "id": "7f396f45-9b4c-4e77-8190-aa4319892501",
   "metadata": {},
   "outputs": [
    {
     "data": {
      "text/plain": [
       "Main Dishes              13665\n",
       "Desserts                  3204\n",
       "Salads                    2406\n",
       "Side Dishes               2147\n",
       "Soups                     1804\n",
       "Appetizers                1513\n",
       "Condiments and Sauces      830\n",
       "Lunch and Snacks           649\n",
       "Breakfast and Brunch       587\n",
       "Breads                     467\n",
       "Beverages                  250\n",
       "Cocktails                   99\n",
       "Afternoon Tea               17\n",
       "Name: course, dtype: int64"
      ]
     },
     "execution_count": 35,
     "metadata": {},
     "output_type": "execute_result"
    }
   ],
   "source": [
    "temp.course.value_counts()"
   ]
  },
  {
   "cell_type": "code",
   "execution_count": 36,
   "id": "f0882717-750e-4375-be2d-961fa3c4f6ac",
   "metadata": {},
   "outputs": [
    {
     "data": {
      "text/plain": [
       "{'Italian': 0,\n",
       " 'Barbecue': 1,\n",
       " 'French': 2,\n",
       " 'American': 3,\n",
       " 'Asian': 4,\n",
       " 'Kid-Friendly': 5,\n",
       " 'Southwestern': 6,\n",
       " 'Mexican': 7,\n",
       " 'Indian': 8,\n",
       " 'Southern & Soul Food': 9,\n",
       " 'Thai': 10,\n",
       " 'Japanese': 11,\n",
       " 'Chinese': 12,\n",
       " 'Spanish': 13,\n",
       " 'Mediterranean': 14,\n",
       " 'Cajun & Creole': 15,\n",
       " 'Cuban': 16,\n",
       " 'Greek': 17,\n",
       " 'German': 18,\n",
       " 'Moroccan': 19,\n",
       " 'Irish': 20,\n",
       " 'Hungarian': 21,\n",
       " 'Vietnamese': 22,\n",
       " 'English': 23,\n",
       " 'Portuguese': 24,\n",
       " 'Hawaiian': 25}"
      ]
     },
     "execution_count": 36,
     "metadata": {},
     "output_type": "execute_result"
    }
   ],
   "source": [
    "keys = temp['cuisine'].unique()\n",
    "vals = range(26)\n",
    "dict_cuisine = {}\n",
    "for i in range(len(keys)):\n",
    "    dict_cuisine[temp['cuisine'].unique()[i]] = i\n",
    "dict_cuisine"
   ]
  },
  {
   "cell_type": "code",
   "execution_count": 37,
   "id": "a3fe7a85-01e7-4b8c-a8cb-bcf0f5633c97",
   "metadata": {},
   "outputs": [
    {
     "data": {
      "text/plain": [
       "{'Side Dishes': 0,\n",
       " 'Main Dishes': 1,\n",
       " 'Desserts': 2,\n",
       " 'Salads': 3,\n",
       " 'Soups': 4,\n",
       " 'Condiments and Sauces': 5,\n",
       " 'Appetizers': 6,\n",
       " 'Breads': 7,\n",
       " 'Lunch and Snacks': 8,\n",
       " 'Breakfast and Brunch': 9,\n",
       " 'Beverages': 10,\n",
       " 'Cocktails': 11,\n",
       " 'Afternoon Tea': 12}"
      ]
     },
     "execution_count": 37,
     "metadata": {},
     "output_type": "execute_result"
    }
   ],
   "source": [
    "keys = temp['course'].unique()\n",
    "vals = range(26)\n",
    "dict_course = {}\n",
    "for i in range(len(keys)):\n",
    "    dict_course[temp['course'].unique()[i]] = i\n",
    "dict_course"
   ]
  },
  {
   "cell_type": "code",
   "execution_count": null,
   "id": "84e962ea-20c6-4670-8a08-409b5d827353",
   "metadata": {},
   "outputs": [],
   "source": []
  },
  {
   "cell_type": "code",
   "execution_count": 38,
   "id": "a6c31625-3386-4965-afe5-d4676ba6461e",
   "metadata": {},
   "outputs": [],
   "source": [
    "\n",
    "def load_glove():\n",
    "    embeddings_index = dict()\n",
    "    f = open('glove.42B.300d.txt') # replace this with the path to your downloaded txt file\n",
    "    for line in f:\n",
    "        values = line.split()\n",
    "        word = values[0]\n",
    "        coefs = np.asarray(values[1:], dtype='float32')\n",
    "        embeddings_index[word] = coefs\n",
    "    f.close()\n",
    "    print('Loaded %s word vectors.' % len(embeddings_index))\n",
    "    # create a weight matrix for words in training docs\n",
    "    \n",
    "    return embeddings_index"
   ]
  },
  {
   "cell_type": "code",
   "execution_count": 39,
   "id": "c0592231-14f6-49e0-8ad1-31297ec6f3cc",
   "metadata": {},
   "outputs": [
    {
     "name": "stdout",
     "output_type": "stream",
     "text": [
      "Loaded 1917495 word vectors.\n"
     ]
    }
   ],
   "source": [
    "embeddings_index = load_glove()\n"
   ]
  },
  {
   "cell_type": "code",
   "execution_count": 40,
   "id": "9e1287fb-bd9c-4caf-b7b7-962319ff487e",
   "metadata": {
    "collapsed": true,
    "jupyter": {
     "outputs_hidden": true
    },
    "tags": []
   },
   "outputs": [
    {
     "data": {
      "text/plain": [
       "['lb',\n",
       " 'pork',\n",
       " 'country',\n",
       " 'style',\n",
       " 'ribs',\n",
       " 'fat',\n",
       " 'trimmed',\n",
       " 'cut',\n",
       " 'x',\n",
       " 'cubes',\n",
       " 'oz',\n",
       " 'up',\n",
       " 'cup',\n",
       " 'soy',\n",
       " 'sauce',\n",
       " 'cup',\n",
       " 'white',\n",
       " 'vinegar',\n",
       " 'lemon',\n",
       " 'juice',\n",
       " 'cup',\n",
       " 'brown',\n",
       " 'sugar',\n",
       " 'cloves',\n",
       " 'garlic',\n",
       " 'crushed',\n",
       " 'tsp',\n",
       " 'black',\n",
       " 'pepper',\n",
       " 'crushed',\n",
       " 'red',\n",
       " 'pepper',\n",
       " 'flakes',\n",
       " 'optional']"
      ]
     },
     "execution_count": 40,
     "metadata": {},
     "output_type": "execute_result"
    }
   ],
   "source": [
    "\n",
    "stop_words = set(stopwords.words('english'))\n",
    "punc = '''!()-[]{};:'\"\\,<>./?@#$%^&*_~'''\n",
    "word_tokens = word_tokenize(temp.ingredients[1])\n",
    "filter1 = [w for w in word_tokens if not w.lower() in stop_words] #removes stopwords\n",
    "#filter2 = [w for w in filter1 if not w.isdigit()] #removes numbers\n",
    "filter2 = [''.join([l for l in w.lower() if not l.isdigit()]) for w in filter1]\n",
    "filter3 = [w for w in filter2 if not w.lower() in punc] #removes punctuation\n",
    "filter3 = [''.join([l for l in w.lower() if not l in punc]) for w in filter2]\n",
    "filter4 = [w for w in filter3 if w != '']\n",
    "filter4"
   ]
  },
  {
   "cell_type": "code",
   "execution_count": 41,
   "id": "2587d017-47a0-4cd0-b01a-6a05b924d7b2",
   "metadata": {},
   "outputs": [],
   "source": [
    "embeddings_index.get('')"
   ]
  },
  {
   "cell_type": "code",
   "execution_count": 42,
   "id": "416b9d6f-a55e-4456-b7ed-5213282e810d",
   "metadata": {},
   "outputs": [],
   "source": [
    "def get_avg_embedding(text):\n",
    "    stop_words = set(stopwords.words('english'))\n",
    "    punc = '''!()-[]{};:'\"\\,<>./?@#$%^&*_~'''\n",
    "    word_tokens = word_tokenize(text)\n",
    "    filter1 = [w for w in word_tokens if not w.lower() in stop_words] #removes stopwords\n",
    "    #filter2 = [w for w in filter1 if not w.isdigit()] #removes numbers\n",
    "    filter2 = [''.join([l for l in w.lower() if not l.isdigit()]) for w in filter1]\n",
    "    filter3 = [w for w in filter2 if not w.lower() in punc] #removes punctuation\n",
    "    filter3 = [''.join([l for l in w.lower() if not l in punc]) for w in filter2]\n",
    "    filter4 = [w for w in filter3 if w != '']\n",
    "    embeds = np.zeros((len(filter4), 300))\n",
    "    for idx, w in enumerate(filter4):\n",
    "        if type(embeddings_index.get(w)) != type(embeddings_index.get('-w')):\n",
    "            embeds[idx] = embeddings_index.get(w)\n",
    "        else:\n",
    "            pass\n",
    "    \n",
    "    return(np.mean(embeds, axis=0))\n",
    "    "
   ]
  },
  {
   "cell_type": "code",
   "execution_count": null,
   "id": "e530ffaa-0cf8-46ca-ad6a-b244fa0a4624",
   "metadata": {},
   "outputs": [],
   "source": []
  },
  {
   "cell_type": "code",
   "execution_count": 43,
   "id": "51f27b49-2455-4e8b-9cc9-dae0ef925987",
   "metadata": {},
   "outputs": [],
   "source": [
    "def get_my_embedding(index = 0, data = temp, cols = ['title', 'ingredients', 'cuisine', 'course']):\n",
    "    the_embedding = np.concatenate((get_avg_embedding(data[cols[0]][index]), get_avg_embedding(data[cols[1]][index]), get_avg_embedding(data[cols[2]][index]), get_avg_embedding(data[cols[3]][index])))\n",
    "    return the_embedding\n",
    "\n",
    "\n"
   ]
  },
  {
   "cell_type": "code",
   "execution_count": 44,
   "id": "44828c80-171b-4aaf-9682-249964f62338",
   "metadata": {},
   "outputs": [
    {
     "data": {
      "text/plain": [
       "array(['1', '2', '3', ..., '27636', '27637', '27638'], dtype='<U21')"
      ]
     },
     "execution_count": 44,
     "metadata": {},
     "output_type": "execute_result"
    }
   ],
   "source": [
    "temp['id'].unique().astype(str)"
   ]
  },
  {
   "cell_type": "code",
   "execution_count": null,
   "id": "385a2b7a-95c7-4e81-be79-798dd691ac68",
   "metadata": {},
   "outputs": [],
   "source": [
    "#make a dictinoary of the ID to embedding\n",
    "#keys = temp['id'].unique()\n",
    "keys = [str(i) for i in range(1,27639)]\n",
    "embedding_dict = {}\n",
    "for i in keys:\n",
    "    embedding_dict[i] = list(get_my_embedding(int(i)-1))\n",
    "embedding_dict"
   ]
  },
  {
   "cell_type": "code",
   "execution_count": 47,
   "id": "24e69466-248d-488e-95b5-9344a8939aea",
   "metadata": {},
   "outputs": [],
   "source": [
    "import json\n",
    "with open('text_embs.json', 'w') as fp:\n",
    "    json.dump(embedding_dict, fp)"
   ]
  },
  {
   "cell_type": "code",
   "execution_count": null,
   "id": "5ded6362-c9bd-43d0-8afc-780672093f6f",
   "metadata": {},
   "outputs": [],
   "source": []
  },
  {
   "cell_type": "code",
   "execution_count": null,
   "id": "f571a722-71e3-4ee0-aa3a-4daf40dda91f",
   "metadata": {},
   "outputs": [],
   "source": []
  },
  {
   "cell_type": "code",
   "execution_count": null,
   "id": "644606a1-5460-4d51-be58-eda513c27926",
   "metadata": {},
   "outputs": [],
   "source": []
  },
  {
   "cell_type": "code",
   "execution_count": null,
   "id": "f285a839-4e50-4e67-8b9d-9d6f6e3dc1aa",
   "metadata": {},
   "outputs": [],
   "source": []
  },
  {
   "cell_type": "code",
   "execution_count": null,
   "id": "e392a794-0770-41c5-8543-4eec5339f4cf",
   "metadata": {},
   "outputs": [],
   "source": []
  }
 ],
 "metadata": {
  "kernelspec": {
   "display_name": "Python 3",
   "language": "python",
   "name": "python3"
  },
  "language_info": {
   "codemirror_mode": {
    "name": "ipython",
    "version": 3
   },
   "file_extension": ".py",
   "mimetype": "text/x-python",
   "name": "python",
   "nbconvert_exporter": "python",
   "pygments_lexer": "ipython3",
   "version": "3.6.10"
  },
  "widgets": {
   "application/vnd.jupyter.widget-state+json": {
    "state": {},
    "version_major": 2,
    "version_minor": 0
   }
  }
 },
 "nbformat": 4,
 "nbformat_minor": 5
}
